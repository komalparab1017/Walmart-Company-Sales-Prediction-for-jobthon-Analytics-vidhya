{
 "cells": [
  {
   "cell_type": "markdown",
   "id": "9b36d221",
   "metadata": {},
   "source": [
    "# "
   ]
  },
  {
   "cell_type": "markdown",
   "id": "3c79d106",
   "metadata": {},
   "source": [
    "# Importing and Checking data"
   ]
  },
  {
   "cell_type": "code",
   "execution_count": 1,
   "id": "03e3d556",
   "metadata": {},
   "outputs": [],
   "source": [
    "import pandas as pd\n",
    "import numpy as np\n",
    "import seaborn as sns\n",
    "import matplotlib.pyplot as plt\n",
    "import warnings\n",
    "warnings.filterwarnings('ignore')"
   ]
  },
  {
   "cell_type": "code",
   "execution_count": 2,
   "id": "a1438211",
   "metadata": {},
   "outputs": [],
   "source": [
    "train=pd.read_csv(r\"C:\\Users\\HP\\Desktop\\KOMAL\\DATA\\from analytics vidya\\Jobthon\\TRAIN.csv\")"
   ]
  },
  {
   "cell_type": "code",
   "execution_count": 3,
   "id": "d752f16a",
   "metadata": {},
   "outputs": [
    {
     "data": {
      "text/html": [
       "<div>\n",
       "<style scoped>\n",
       "    .dataframe tbody tr th:only-of-type {\n",
       "        vertical-align: middle;\n",
       "    }\n",
       "\n",
       "    .dataframe tbody tr th {\n",
       "        vertical-align: top;\n",
       "    }\n",
       "\n",
       "    .dataframe thead th {\n",
       "        text-align: right;\n",
       "    }\n",
       "</style>\n",
       "<table border=\"1\" class=\"dataframe\">\n",
       "  <thead>\n",
       "    <tr style=\"text-align: right;\">\n",
       "      <th></th>\n",
       "      <th>ID</th>\n",
       "      <th>Store_id</th>\n",
       "      <th>Store_Type</th>\n",
       "      <th>Location_Type</th>\n",
       "      <th>Region_Code</th>\n",
       "      <th>Date</th>\n",
       "      <th>Holiday</th>\n",
       "      <th>Discount</th>\n",
       "      <th>#Order</th>\n",
       "      <th>Sales</th>\n",
       "    </tr>\n",
       "  </thead>\n",
       "  <tbody>\n",
       "    <tr>\n",
       "      <th>0</th>\n",
       "      <td>T1000001</td>\n",
       "      <td>1</td>\n",
       "      <td>S1</td>\n",
       "      <td>L3</td>\n",
       "      <td>R1</td>\n",
       "      <td>2018-01-01</td>\n",
       "      <td>1</td>\n",
       "      <td>Yes</td>\n",
       "      <td>9</td>\n",
       "      <td>7011.84</td>\n",
       "    </tr>\n",
       "    <tr>\n",
       "      <th>1</th>\n",
       "      <td>T1000002</td>\n",
       "      <td>253</td>\n",
       "      <td>S4</td>\n",
       "      <td>L2</td>\n",
       "      <td>R1</td>\n",
       "      <td>2018-01-01</td>\n",
       "      <td>1</td>\n",
       "      <td>Yes</td>\n",
       "      <td>60</td>\n",
       "      <td>51789.12</td>\n",
       "    </tr>\n",
       "    <tr>\n",
       "      <th>2</th>\n",
       "      <td>T1000003</td>\n",
       "      <td>252</td>\n",
       "      <td>S3</td>\n",
       "      <td>L2</td>\n",
       "      <td>R1</td>\n",
       "      <td>2018-01-01</td>\n",
       "      <td>1</td>\n",
       "      <td>Yes</td>\n",
       "      <td>42</td>\n",
       "      <td>36868.20</td>\n",
       "    </tr>\n",
       "    <tr>\n",
       "      <th>3</th>\n",
       "      <td>T1000004</td>\n",
       "      <td>251</td>\n",
       "      <td>S2</td>\n",
       "      <td>L3</td>\n",
       "      <td>R1</td>\n",
       "      <td>2018-01-01</td>\n",
       "      <td>1</td>\n",
       "      <td>Yes</td>\n",
       "      <td>23</td>\n",
       "      <td>19715.16</td>\n",
       "    </tr>\n",
       "    <tr>\n",
       "      <th>4</th>\n",
       "      <td>T1000005</td>\n",
       "      <td>250</td>\n",
       "      <td>S2</td>\n",
       "      <td>L3</td>\n",
       "      <td>R4</td>\n",
       "      <td>2018-01-01</td>\n",
       "      <td>1</td>\n",
       "      <td>Yes</td>\n",
       "      <td>62</td>\n",
       "      <td>45614.52</td>\n",
       "    </tr>\n",
       "  </tbody>\n",
       "</table>\n",
       "</div>"
      ],
      "text/plain": [
       "         ID  Store_id Store_Type Location_Type Region_Code        Date  \\\n",
       "0  T1000001         1         S1            L3          R1  2018-01-01   \n",
       "1  T1000002       253         S4            L2          R1  2018-01-01   \n",
       "2  T1000003       252         S3            L2          R1  2018-01-01   \n",
       "3  T1000004       251         S2            L3          R1  2018-01-01   \n",
       "4  T1000005       250         S2            L3          R4  2018-01-01   \n",
       "\n",
       "   Holiday Discount  #Order     Sales  \n",
       "0        1      Yes       9   7011.84  \n",
       "1        1      Yes      60  51789.12  \n",
       "2        1      Yes      42  36868.20  \n",
       "3        1      Yes      23  19715.16  \n",
       "4        1      Yes      62  45614.52  "
      ]
     },
     "execution_count": 3,
     "metadata": {},
     "output_type": "execute_result"
    }
   ],
   "source": [
    "train.head()"
   ]
  },
  {
   "cell_type": "code",
   "execution_count": 4,
   "id": "2bdd8e69",
   "metadata": {},
   "outputs": [
    {
     "name": "stdout",
     "output_type": "stream",
     "text": [
      "<class 'pandas.core.frame.DataFrame'>\n",
      "RangeIndex: 188340 entries, 0 to 188339\n",
      "Data columns (total 10 columns):\n",
      " #   Column         Non-Null Count   Dtype  \n",
      "---  ------         --------------   -----  \n",
      " 0   ID             188340 non-null  object \n",
      " 1   Store_id       188340 non-null  int64  \n",
      " 2   Store_Type     188340 non-null  object \n",
      " 3   Location_Type  188340 non-null  object \n",
      " 4   Region_Code    188340 non-null  object \n",
      " 5   Date           188340 non-null  object \n",
      " 6   Holiday        188340 non-null  int64  \n",
      " 7   Discount       188340 non-null  object \n",
      " 8   #Order         188340 non-null  int64  \n",
      " 9   Sales          188340 non-null  float64\n",
      "dtypes: float64(1), int64(3), object(6)\n",
      "memory usage: 14.4+ MB\n"
     ]
    }
   ],
   "source": [
    "train.info()"
   ]
  },
  {
   "cell_type": "code",
   "execution_count": 5,
   "id": "79123c01",
   "metadata": {},
   "outputs": [
    {
     "data": {
      "text/plain": [
       "(188340, 10)"
      ]
     },
     "execution_count": 5,
     "metadata": {},
     "output_type": "execute_result"
    }
   ],
   "source": [
    "train.shape"
   ]
  },
  {
   "cell_type": "code",
   "execution_count": 6,
   "id": "de0f8b08",
   "metadata": {},
   "outputs": [
    {
     "name": "stdout",
     "output_type": "stream",
     "text": [
      "Empty DataFrame\n",
      "Columns: [ID, Store_id, Store_Type, Location_Type, Region_Code, Date, Holiday, Discount, #Order, Sales]\n",
      "Index: []\n"
     ]
    }
   ],
   "source": [
    "duplicate=train[train.duplicated()]\n",
    "print(duplicate)"
   ]
  },
  {
   "cell_type": "code",
   "execution_count": 7,
   "id": "0b2f6f4d",
   "metadata": {},
   "outputs": [
    {
     "data": {
      "text/plain": [
       "ID               0\n",
       "Store_id         0\n",
       "Store_Type       0\n",
       "Location_Type    0\n",
       "Region_Code      0\n",
       "Date             0\n",
       "Holiday          0\n",
       "Discount         0\n",
       "#Order           0\n",
       "Sales            0\n",
       "dtype: int64"
      ]
     },
     "execution_count": 7,
     "metadata": {},
     "output_type": "execute_result"
    }
   ],
   "source": [
    "train.isnull().sum()"
   ]
  },
  {
   "cell_type": "code",
   "execution_count": 8,
   "id": "7134f2db",
   "metadata": {},
   "outputs": [
    {
     "data": {
      "text/plain": [
       "array(['S1', 'S4', 'S3', 'S2'], dtype=object)"
      ]
     },
     "execution_count": 8,
     "metadata": {},
     "output_type": "execute_result"
    }
   ],
   "source": [
    "train['Store_Type'].unique()"
   ]
  },
  {
   "cell_type": "code",
   "execution_count": 9,
   "id": "705edcf1",
   "metadata": {},
   "outputs": [
    {
     "data": {
      "text/plain": [
       "array(['L3', 'L2', 'L1', 'L5', 'L4'], dtype=object)"
      ]
     },
     "execution_count": 9,
     "metadata": {},
     "output_type": "execute_result"
    }
   ],
   "source": [
    "train['Location_Type'].unique()"
   ]
  },
  {
   "cell_type": "code",
   "execution_count": 10,
   "id": "e31280a1",
   "metadata": {},
   "outputs": [
    {
     "data": {
      "text/plain": [
       "array(['R1', 'R4', 'R2', 'R3'], dtype=object)"
      ]
     },
     "execution_count": 10,
     "metadata": {},
     "output_type": "execute_result"
    }
   ],
   "source": [
    "train['Region_Code'].unique()"
   ]
  },
  {
   "cell_type": "code",
   "execution_count": 11,
   "id": "8c6ccadc",
   "metadata": {},
   "outputs": [
    {
     "data": {
      "text/plain": [
       "array([1, 0], dtype=int64)"
      ]
     },
     "execution_count": 11,
     "metadata": {},
     "output_type": "execute_result"
    }
   ],
   "source": [
    "train['Holiday'].unique()"
   ]
  },
  {
   "cell_type": "code",
   "execution_count": 12,
   "id": "37cff1ec",
   "metadata": {},
   "outputs": [
    {
     "data": {
      "text/plain": [
       "array([  9,  60,  42,  23,  62,  39,  40,  64,  87,  36,  69,  51,  56,\n",
       "        59,  35,  29,  55,  46,  63,  78,  48,  38,  75,  91,  49,  26,\n",
       "        68,  27,  25,  37,  45,  94,  53,  73,  31,  89,  66,  74,  47,\n",
       "        77,  81,  21,  41,  61,  58, 118,  44, 121,  32,  83,  67,  52,\n",
       "        34,  80,  57,  54,  50,  71,  92,  76, 111,  90,  43,  72,  70,\n",
       "        84, 132,  24,  88,  65,  97, 113,  30,  33,  79, 108, 154,  28,\n",
       "        85, 102, 115, 125, 180,  86,  96,  98, 119, 100, 142, 117, 146,\n",
       "       145, 106, 112, 124, 107, 152, 103,  99, 189, 123, 135, 126,  93,\n",
       "       130, 116, 167,  82, 181, 122, 120, 104, 109, 101, 128, 105, 138,\n",
       "       169, 150, 137, 133, 110,  95, 170, 157, 156, 144, 196, 131, 209,\n",
       "       143, 136, 140, 158, 139, 184, 129, 114, 201, 134, 217, 166,  15,\n",
       "       177,  16, 147,  12,  17,  22,  13, 155, 127, 172, 168, 160, 174,\n",
       "       151, 159, 165, 141,  20,  19, 149, 164,  18, 163,  11, 161, 183,\n",
       "       178, 153, 185, 176, 192, 162, 202, 148, 193, 199, 219, 194, 186,\n",
       "       175, 207, 280, 241, 182, 187, 227, 245, 210, 305, 173, 238, 188,\n",
       "       232,   8,  14, 197,  10,   7, 215, 254, 211, 179, 190, 198, 269,\n",
       "       195, 208, 242, 171,   4,   6,   5, 206, 251, 216, 205, 229,   0,\n",
       "       191, 253, 235, 214, 230, 223, 221, 225, 213, 240, 252, 200, 231,\n",
       "       239, 281, 204, 220, 228, 247, 290, 224, 236, 203, 218, 316, 250,\n",
       "       233, 260, 226, 282, 271, 285, 255, 278, 222, 212, 297, 244, 333,\n",
       "       246, 237, 259, 304, 234,   3,   2, 292, 261, 296, 257, 275, 273,\n",
       "       249, 264, 300, 306, 277, 347, 293,   1, 331, 302, 272, 320, 267,\n",
       "       284, 262, 283, 348, 256, 371, 248, 258, 294, 309, 361, 291, 266],\n",
       "      dtype=int64)"
      ]
     },
     "execution_count": 12,
     "metadata": {},
     "output_type": "execute_result"
    }
   ],
   "source": [
    "train['#Order'].unique()"
   ]
  },
  {
   "cell_type": "code",
   "execution_count": 13,
   "id": "e4b31b81",
   "metadata": {
    "scrolled": false
   },
   "outputs": [
    {
     "data": {
      "text/html": [
       "<div>\n",
       "<style scoped>\n",
       "    .dataframe tbody tr th:only-of-type {\n",
       "        vertical-align: middle;\n",
       "    }\n",
       "\n",
       "    .dataframe tbody tr th {\n",
       "        vertical-align: top;\n",
       "    }\n",
       "\n",
       "    .dataframe thead th {\n",
       "        text-align: right;\n",
       "    }\n",
       "</style>\n",
       "<table border=\"1\" class=\"dataframe\">\n",
       "  <thead>\n",
       "    <tr style=\"text-align: right;\">\n",
       "      <th></th>\n",
       "      <th>Store_id</th>\n",
       "      <th>Holiday</th>\n",
       "      <th>#Order</th>\n",
       "      <th>Sales</th>\n",
       "    </tr>\n",
       "  </thead>\n",
       "  <tbody>\n",
       "    <tr>\n",
       "      <th>count</th>\n",
       "      <td>188340.000000</td>\n",
       "      <td>188340.000000</td>\n",
       "      <td>188340.000000</td>\n",
       "      <td>188340.000000</td>\n",
       "    </tr>\n",
       "    <tr>\n",
       "      <th>mean</th>\n",
       "      <td>183.000000</td>\n",
       "      <td>0.131783</td>\n",
       "      <td>68.205692</td>\n",
       "      <td>42784.327982</td>\n",
       "    </tr>\n",
       "    <tr>\n",
       "      <th>std</th>\n",
       "      <td>105.366308</td>\n",
       "      <td>0.338256</td>\n",
       "      <td>30.467415</td>\n",
       "      <td>18456.708302</td>\n",
       "    </tr>\n",
       "    <tr>\n",
       "      <th>min</th>\n",
       "      <td>1.000000</td>\n",
       "      <td>0.000000</td>\n",
       "      <td>0.000000</td>\n",
       "      <td>0.000000</td>\n",
       "    </tr>\n",
       "    <tr>\n",
       "      <th>25%</th>\n",
       "      <td>92.000000</td>\n",
       "      <td>0.000000</td>\n",
       "      <td>48.000000</td>\n",
       "      <td>30426.000000</td>\n",
       "    </tr>\n",
       "    <tr>\n",
       "      <th>50%</th>\n",
       "      <td>183.000000</td>\n",
       "      <td>0.000000</td>\n",
       "      <td>63.000000</td>\n",
       "      <td>39678.000000</td>\n",
       "    </tr>\n",
       "    <tr>\n",
       "      <th>75%</th>\n",
       "      <td>274.000000</td>\n",
       "      <td>0.000000</td>\n",
       "      <td>82.000000</td>\n",
       "      <td>51909.000000</td>\n",
       "    </tr>\n",
       "    <tr>\n",
       "      <th>max</th>\n",
       "      <td>365.000000</td>\n",
       "      <td>1.000000</td>\n",
       "      <td>371.000000</td>\n",
       "      <td>247215.000000</td>\n",
       "    </tr>\n",
       "  </tbody>\n",
       "</table>\n",
       "</div>"
      ],
      "text/plain": [
       "            Store_id        Holiday         #Order          Sales\n",
       "count  188340.000000  188340.000000  188340.000000  188340.000000\n",
       "mean      183.000000       0.131783      68.205692   42784.327982\n",
       "std       105.366308       0.338256      30.467415   18456.708302\n",
       "min         1.000000       0.000000       0.000000       0.000000\n",
       "25%        92.000000       0.000000      48.000000   30426.000000\n",
       "50%       183.000000       0.000000      63.000000   39678.000000\n",
       "75%       274.000000       0.000000      82.000000   51909.000000\n",
       "max       365.000000       1.000000     371.000000  247215.000000"
      ]
     },
     "execution_count": 13,
     "metadata": {},
     "output_type": "execute_result"
    }
   ],
   "source": [
    "train.describe()"
   ]
  },
  {
   "cell_type": "code",
   "execution_count": 14,
   "id": "b5d3136c",
   "metadata": {},
   "outputs": [
    {
     "data": {
      "text/plain": [
       "Index(['ID', 'Store_id', 'Store_Type', 'Location_Type', 'Region_Code', 'Date',\n",
       "       'Holiday', 'Discount', '#Order', 'Sales'],\n",
       "      dtype='object')"
      ]
     },
     "execution_count": 14,
     "metadata": {},
     "output_type": "execute_result"
    }
   ],
   "source": [
    "train.columns"
   ]
  },
  {
   "cell_type": "markdown",
   "id": "a256c416",
   "metadata": {},
   "source": [
    "## Data Visualization"
   ]
  },
  {
   "cell_type": "code",
   "execution_count": 15,
   "id": "fe3141b3",
   "metadata": {},
   "outputs": [
    {
     "data": {
      "image/png": "[encoded data removed]",
      "text/plain": [
       "<Figure size 720x288 with 1 Axes>"
      ]
     },
     "metadata": {
      "needs_background": "light"
     },
     "output_type": "display_data"
    },
    {
     "data": {
      "image/png": "[encoded data removed]",
      "text/plain": [
       "<Figure size 720x288 with 1 Axes>"
      ]
     },
     "metadata": {
      "needs_background": "light"
     },
     "output_type": "display_data"
    },
    {
     "data": {
      "image/png": "[encoded data removed]",
      "text/plain": [
       "<Figure size 720x288 with 1 Axes>"
      ]
     },
     "metadata": {
      "needs_background": "light"
     },
     "output_type": "display_data"
    },
    {
     "data": {
      "image/png": "[encoded data removed]",
      "text/plain": [
       "<Figure size 720x288 with 1 Axes>"
      ]
     },
     "metadata": {
      "needs_background": "light"
     },
     "output_type": "display_data"
    }
   ],
   "source": [
    "categorcial_variables = ['Store_Type', 'Location_Type', 'Region_Code', 'Discount',]\n",
    "for col in categorcial_variables:\n",
    "    plt.figure(figsize=(10,4))\n",
    "    sns.barplot(train[col].value_counts().values, train[col].value_counts().index)\n",
    "    plt.title(col)\n",
    "    plt.tight_layout()"
   ]
  },
  {
   "cell_type": "code",
   "execution_count": 16,
   "id": "bc687c4f",
   "metadata": {
    "scrolled": false
   },
   "outputs": [
    {
     "data": {
      "image/png": "[encoded data removed]",
      "text/plain": [
       "<Figure size 720x288 with 1 Axes>"
      ]
     },
     "metadata": {
      "needs_background": "light"
     },
     "output_type": "display_data"
    },
    {
     "data": {
      "image/png": "[encoded data removed]",
      "text/plain": [
       "<Figure size 720x288 with 1 Axes>"
      ]
     },
     "metadata": {
      "needs_background": "light"
     },
     "output_type": "display_data"
    },
    {
     "data": {
      "image/png": "[encoded data removed]",
      "text/plain": [
       "<Figure size 720x288 with 1 Axes>"
      ]
     },
     "metadata": {
      "needs_background": "light"
     },
     "output_type": "display_data"
    }
   ],
   "source": [
    "numerical_variables = ['#Order', 'Sales','Holiday']\n",
    "for i in numerical_variables:\n",
    "    plt.figure(figsize=(10,4))\n",
    "    sns.distplot(train[i])\n",
    "    plt.title(i)\n",
    "    plt.tight_layout()"
   ]
  },
  {
   "cell_type": "markdown",
   "id": "f4830805",
   "metadata": {},
   "source": [
    "##### From distribution plot we can say that  numeric columns are skewed "
   ]
  },
  {
   "cell_type": "code",
   "execution_count": 17,
   "id": "818e29aa",
   "metadata": {},
   "outputs": [],
   "source": [
    "numerical_variables = ['#Order', 'Sales','Holiday']\n",
    "for i in numerical_variables:\n",
    "    train[i]=np.log(train[i]+1)\n"
   ]
  },
  {
   "cell_type": "code",
   "execution_count": null,
   "id": "5b0747dc",
   "metadata": {},
   "outputs": [],
   "source": []
  },
  {
   "cell_type": "code",
   "execution_count": 18,
   "id": "dcc1867a",
   "metadata": {},
   "outputs": [
    {
     "data": {
      "image/png": "[encoded data removed]",
      "text/plain": [
       "<Figure size 720x288 with 1 Axes>"
      ]
     },
     "metadata": {
      "needs_background": "light"
     },
     "output_type": "display_data"
    },
    {
     "data": {
      "image/png": "[encoded data removed]",
      "text/plain": [
       "<Figure size 720x288 with 1 Axes>"
      ]
     },
     "metadata": {
      "needs_background": "light"
     },
     "output_type": "display_data"
    },
    {
     "data": {
      "image/png": "[encoded data removed]",
      "text/plain": [
       "<Figure size 720x288 with 1 Axes>"
      ]
     },
     "metadata": {
      "needs_background": "light"
     },
     "output_type": "display_data"
    }
   ],
   "source": [
    "numerical_variables = ['#Order', 'Sales','Holiday']\n",
    "for i in numerical_variables:\n",
    "    plt.figure(figsize=(10,4))\n",
    "    sns.boxplot(train[i])\n",
    "    plt.title(i)\n",
    "    plt.tight_layout()"
   ]
  },
  {
   "cell_type": "markdown",
   "id": "cf0f26db",
   "metadata": {},
   "source": [
    "##### From boxplot we can conclude that there are some outliers present.\n"
   ]
  },
  {
   "cell_type": "markdown",
   "id": "2121d443",
   "metadata": {},
   "source": [
    "## Replacing Outliers "
   ]
  },
  {
   "cell_type": "code",
   "execution_count": 19,
   "id": "9298a8ba",
   "metadata": {},
   "outputs": [],
   "source": [
    "numerical_variables = ['#Order', 'Sales','Holiday']\n",
    "for i in numerical_variables:\n",
    "    train[i]=np.where(train[i]>train[i].quantile(0.99),train[i].quantile(0.99),train[i])"
   ]
  },
  {
   "cell_type": "markdown",
   "id": "a9ac92a7",
   "metadata": {},
   "source": [
    "### Again checking the outliers"
   ]
  },
  {
   "cell_type": "code",
   "execution_count": 20,
   "id": "f027527c",
   "metadata": {
    "scrolled": true
   },
   "outputs": [
    {
     "data": {
      "image/png": "[encoded data removed]",
      "text/plain": [
       "<Figure size 720x288 with 1 Axes>"
      ]
     },
     "metadata": {
      "needs_background": "light"
     },
     "output_type": "display_data"
    },
    {
     "data": {
      "image/png": "[encoded data removed]",
      "text/plain": [
       "<Figure size 720x288 with 1 Axes>"
      ]
     },
     "metadata": {
      "needs_background": "light"
     },
     "output_type": "display_data"
    },
    {
     "data": {
      "image/png": "[encoded data removed]",
      "text/plain": [
       "<Figure size 720x288 with 1 Axes>"
      ]
     },
     "metadata": {
      "needs_background": "light"
     },
     "output_type": "display_data"
    }
   ],
   "source": [
    "numerical_variables = ['#Order', 'Sales','Holiday']\n",
    "for i in numerical_variables:\n",
    "    plt.figure(figsize=(10,4))\n",
    "    sns.boxplot(train[i])\n",
    "    plt.title(i)\n",
    "    plt.tight_layout()"
   ]
  },
  {
   "cell_type": "markdown",
   "id": "3070f5bf",
   "metadata": {},
   "source": [
    "## Correlation "
   ]
  },
  {
   "cell_type": "code",
   "execution_count": 21,
   "id": "21bcf51a",
   "metadata": {
    "scrolled": false
   },
   "outputs": [
    {
     "data": {
      "text/plain": [
       "<AxesSubplot:>"
      ]
     },
     "execution_count": 21,
     "metadata": {},
     "output_type": "execute_result"
    },
    {
     "data": {
      "image/png": "[encoded data removed]",
      "text/plain": [
       "<Figure size 1080x720 with 2 Axes>"
      ]
     },
     "metadata": {
      "needs_background": "light"
     },
     "output_type": "display_data"
    }
   ],
   "source": [
    "corr=train.corr()\n",
    "plt.figure(figsize=(15,10))\n",
    "sns.heatmap(corr,annot = True, cmap=\"BuPu\")"
   ]
  },
  {
   "cell_type": "code",
   "execution_count": 22,
   "id": "3dbf489b",
   "metadata": {},
   "outputs": [],
   "source": [
    "corr.to_csv(r\"C:\\Users\\HP\\Desktop\\KOMAL\\output\\Sales_corr.csv\")"
   ]
  },
  {
   "cell_type": "markdown",
   "id": "c759d4ad",
   "metadata": {},
   "source": [
    "#### we are not considering feature'#order' beacause it is highly correlated"
   ]
  },
  {
   "cell_type": "markdown",
   "id": "b98d7bf2",
   "metadata": {},
   "source": [
    "## Encoding categorical variables"
   ]
  },
  {
   "cell_type": "code",
   "execution_count": 23,
   "id": "c043b585",
   "metadata": {},
   "outputs": [],
   "source": [
    "# Import label encoder \n",
    "from sklearn import preprocessing \n",
    "  \n",
    "# label_encoder object knows how to understand word labels. \n",
    "label_encoder = preprocessing.LabelEncoder() \n",
    "  \n",
    "# Encode labels in column 'species'.\n",
    "train['Store_Type']= label_encoder.fit_transform(train['Store_Type']) \n",
    "train['Location_Type']= label_encoder.fit_transform(train['Location_Type']) \n",
    "train['Region_Code']= label_encoder.fit_transform(train['Region_Code']) \n",
    "train['Discount']= label_encoder.fit_transform(train['Discount']) \n"
   ]
  },
  {
   "cell_type": "code",
   "execution_count": 24,
   "id": "2b075ed2",
   "metadata": {
    "scrolled": true
   },
   "outputs": [
    {
     "name": "stdout",
     "output_type": "stream",
     "text": [
      "<class 'pandas.core.frame.DataFrame'>\n",
      "RangeIndex: 188340 entries, 0 to 188339\n",
      "Data columns (total 10 columns):\n",
      " #   Column         Non-Null Count   Dtype  \n",
      "---  ------         --------------   -----  \n",
      " 0   ID             188340 non-null  object \n",
      " 1   Store_id       188340 non-null  int64  \n",
      " 2   Store_Type     188340 non-null  int32  \n",
      " 3   Location_Type  188340 non-null  int32  \n",
      " 4   Region_Code    188340 non-null  int32  \n",
      " 5   Date           188340 non-null  object \n",
      " 6   Holiday        188340 non-null  float64\n",
      " 7   Discount       188340 non-null  int32  \n",
      " 8   #Order         188340 non-null  float64\n",
      " 9   Sales          188340 non-null  float64\n",
      "dtypes: float64(3), int32(4), int64(1), object(2)\n",
      "memory usage: 11.5+ MB\n"
     ]
    }
   ],
   "source": [
    "train.info()"
   ]
  },
  {
   "cell_type": "markdown",
   "id": "1bca57b4",
   "metadata": {},
   "source": [
    "### VIF"
   ]
  },
  {
   "cell_type": "code",
   "execution_count": 25,
   "id": "dd136e62",
   "metadata": {},
   "outputs": [],
   "source": [
    "feature_list = ['Store_id', 'Store_Type', 'Location_Type', 'Region_Code',\n",
    "       'Holiday', 'Discount', '#Order' ]"
   ]
  },
  {
   "cell_type": "code",
   "execution_count": 26,
   "id": "26337ff6",
   "metadata": {},
   "outputs": [],
   "source": [
    "from statsmodels.stats.outliers_influence import variance_inflation_factor\n",
    "\n",
    "\n",
    "sales_vif = pd.DataFrame()\n",
    "\n",
    "sales_vif[\"VIF Factor\"] = [variance_inflation_factor(train[feature_list].values, i) for i in range(train[feature_list].shape[1])]\n",
    "sales_vif[\"features\"] = feature_list\n",
    "\n",
    "sales_vif.to_csv(r\"C:\\Users\\HP\\Desktop\\KOMAL\\output\\sales_data_vif.csv\",index=False)"
   ]
  },
  {
   "attachments": {
    "image.png": {
     "image/png": "[encoded data removed]"
    }
   },
   "cell_type": "markdown",
   "id": "4c11f76e",
   "metadata": {},
   "source": [
    "VIF Factor\tfeatures\n",
    "6.588228235\t#Order\n",
    "3.290696197\tStore_id\n",
    "2.982523025\tStore_Type\n",
    "2.011697672\tDiscount\n",
    "1.859618007\tRegion_Code\n",
    "1.581238785\tLocation_Type\n",
    "1.139637057\tHoliday\n",
    "![image.png](attachment:image.png)"
   ]
  },
  {
   "cell_type": "markdown",
   "id": "7476f860",
   "metadata": {},
   "source": [
    "##### from above image we can say that there is no or littel multicollinearity"
   ]
  },
  {
   "cell_type": "markdown",
   "id": "c9bd41a6",
   "metadata": {},
   "source": [
    "## Preparing Data (X&Y)"
   ]
  },
  {
   "cell_type": "code",
   "execution_count": 53,
   "id": "9610b341",
   "metadata": {},
   "outputs": [],
   "source": [
    "y=train['Sales']\n",
    "x=train.drop(['Sales','ID','Date','#Order'],axis=1)"
   ]
  },
  {
   "cell_type": "code",
   "execution_count": 28,
   "id": "b7c886da",
   "metadata": {},
   "outputs": [
    {
     "data": {
      "text/plain": [
       "[8.855498033504084,\n",
       " 10.854954676464876,\n",
       " 10.51513179313545,\n",
       " 9.889193883028696,\n",
       " 10.728003288473449,\n",
       " 10.440338169172222,\n",
       " 10.473157202033123,\n",
       " 10.871440510734077,\n",
       " 10.66042563108309,\n",
       " 11.04410193912848,\n",
       " 10.220821020029986,\n",
       " 10.961128529981243,\n",
       " 10.726878696792566,\n",
       " 10.764770732278599,\n",
       " 10.666414728053384,\n",
       " 10.699198767241821,\n",
       " 10.301687667708412,\n",
       " 10.200164425209628,\n",
       " 10.711294451827793,\n",
       " 10.576284055647841,\n",
       " 10.388618681995828,\n",
       " 10.76464901047279,\n",
       " 11.155378426581938,\n",
       " 10.35808308437919,\n",
       " 10.424246675330464,\n",
       " 10.394735171776356,\n",
       " 10.154148989887076,\n",
       " 10.59954798545261,\n",
       " 10.959341250469228,\n",
       " 11.130290015719027,\n",
       " 10.550763554539918,\n",
       " 10.926461724617418,\n",
       " 9.919898158918707,\n",
       " 10.52853253626923,\n",
       " 10.403224422691594,\n",
       " 11.005789691990875,\n",
       " 10.327339907677265,\n",
       " 10.7262101863001,\n",
       " 10.056551928262964,\n",
       " 10.758308543080933,\n",
       " 10.441734939419753,\n",
       " 10.818872874650543,\n",
       " 9.872144449376066,\n",
       " 9.946758705418047,\n",
       " 10.294688746319336,\n",
       " 10.44641050133934,\n",
       " 10.653520137450101,\n",
       " 10.319502151899005,\n",
       " 10.34164570459081,\n",
       " 10.714359989305478,\n",
       " 11.092654336707472,\n",
       " 10.686880291146027,\n",
       " 10.714101941106378,\n",
       " 10.78280346335223,\n",
       " 10.0284942126591,\n",
       " 10.99153388422552,\n",
       " 10.366698161374261,\n",
       " 10.327952351294018,\n",
       " 11.010809468709821,\n",
       " 10.282457065323625,\n",
       " 10.77380135937023,\n",
       " 11.04633313063619,\n",
       " 10.695306529059444,\n",
       " 10.903382396593651,\n",
       " 10.862832793015414,\n",
       " 10.461314312543566,\n",
       " 10.551167853195212,\n",
       " 10.952948111677928,\n",
       " 11.009010573656838,\n",
       " 9.859123876994609,\n",
       " 10.285078254898055,\n",
       " 10.492885696086562,\n",
       " 10.76066013978705,\n",
       " 10.28479247295729,\n",
       " 10.877799614719589,\n",
       " 10.61557914909701,\n",
       " 10.691605764486985,\n",
       " 11.355428258430322,\n",
       " 10.404693050925122,\n",
       " 10.032776584058713,\n",
       " 11.243304635203117,\n",
       " 10.030888630620673,\n",
       " 10.526919100480212,\n",
       " 11.016970883757102,\n",
       " 9.99898316969134,\n",
       " 10.687531780248635,\n",
       " 10.443582616294096,\n",
       " 11.070680183168141,\n",
       " 10.884685487576283,\n",
       " 10.563783491720335,\n",
       " 10.71708177269637,\n",
       " 10.378071301999661,\n",
       " 10.11681750764856,\n",
       " 10.298370196703763,\n",
       " 10.95572356127062,\n",
       " 10.61351643196459,\n",
       " 10.889612508527494,\n",
       " 10.066764319802308,\n",
       " 10.482833976380894,\n",
       " 10.764696559816601,\n",
       " 10.720460364332878,\n",
       " 10.87220943119819,\n",
       " 10.553218229913812,\n",
       " 10.40618856081593,\n",
       " 10.797896617408018,\n",
       " 10.456343112966417,\n",
       " 10.978164325277179,\n",
       " 10.324780076987157,\n",
       " 10.872410961424325,\n",
       " 10.792203983742269,\n",
       " 11.127593223740798,\n",
       " 10.981418107607322,\n",
       " 11.058230300954447,\n",
       " 10.544379133736316,\n",
       " 9.805793132689075,\n",
       " 10.91954578829694,\n",
       " 10.367205845374215,\n",
       " 10.417261027117371,\n",
       " 10.517266256411066,\n",
       " 10.650222892266003,\n",
       " 11.201045913995637,\n",
       " 10.62715423876281,\n",
       " 10.68408180682276,\n",
       " 10.23036209254998,\n",
       " 10.239152677816309,\n",
       " 11.067211947810208,\n",
       " 10.3550901031074,\n",
       " 10.955863912197044,\n",
       " 10.929779296291272,\n",
       " 11.019327260070856,\n",
       " 10.966904349300577,\n",
       " 10.90802722863092,\n",
       " 10.50004343300749,\n",
       " 11.373245839206964,\n",
       " 10.243540513562236,\n",
       " 10.888286665217244,\n",
       " 10.29266201910031,\n",
       " 10.270381603085776,\n",
       " 9.993410520062602,\n",
       " 10.679205933743013,\n",
       " 10.645048636011927,\n",
       " 9.732189018382465,\n",
       " 10.495318804833909,\n",
       " 10.470242368291682,\n",
       " 10.888813181680806,\n",
       " 10.883290028592768,\n",
       " 10.724005877795603,\n",
       " 10.986881290953677,\n",
       " 10.813472041795015,\n",
       " 10.185908182844516,\n",
       " 10.784234419358718,\n",
       " 10.589926029985838,\n",
       " 11.021608471039032,\n",
       " 11.077904349616613,\n",
       " 10.186144520271382,\n",
       " 10.36191822267923,\n",
       " 10.72952529543272,\n",
       " 10.097651625768142,\n",
       " 11.21631135369659,\n",
       " 10.967134275390364,\n",
       " 10.004725582414293,\n",
       " 10.474964715403338,\n",
       " 11.012953888994756,\n",
       " 10.59621914675203,\n",
       " 10.188658224058896,\n",
       " 10.901133730066155,\n",
       " 10.38527769710318,\n",
       " 10.525011440797956,\n",
       " 11.21429137080713,\n",
       " 10.461590768539741,\n",
       " 10.397300782680915,\n",
       " 10.4444449211768,\n",
       " 10.42728695173888,\n",
       " 10.876914853567193,\n",
       " 10.474479245940747,\n",
       " 10.401177479553468,\n",
       " 10.396378507285064,\n",
       " 10.503305988950922,\n",
       " 10.4955428715348,\n",
       " 10.276579595410237,\n",
       " 11.534295490706421,\n",
       " 10.534296456311328,\n",
       " 10.124069425552399,\n",
       " 9.817052373149135,\n",
       " 11.01710141940251,\n",
       " 10.789308355218612,\n",
       " 10.617380542906732,\n",
       " 11.364474179362725,\n",
       " 10.222646489484024,\n",
       " 9.849948053107294,\n",
       " 9.866717234710505,\n",
       " 10.906171003403847,\n",
       " 10.91976406200616,\n",
       " 10.867260927479773,\n",
       " 10.691875819604421,\n",
       " 9.988308365324302,\n",
       " 10.549552821531988,\n",
       " 10.431640389345787,\n",
       " 10.345846951826568,\n",
       " 9.860407280859732,\n",
       " 10.721929705595477,\n",
       " 10.481723195739455,\n",
       " 10.54219729052457,\n",
       " 10.689288205157343,\n",
       " 10.298820839989514,\n",
       " 10.535403802511619,\n",
       " 11.113205223470343,\n",
       " 10.21093328093648,\n",
       " 10.289794645541024,\n",
       " 10.278176220716109,\n",
       " 10.705211745278259,\n",
       " 10.941682593717594,\n",
       " 10.82635580501547,\n",
       " 10.623019571600764,\n",
       " 10.686918666094865,\n",
       " 10.619883865345408,\n",
       " 10.563481177463657,\n",
       " 10.427833167932391,\n",
       " 10.536931171348552,\n",
       " 10.21313902079189,\n",
       " 10.212768065316787,\n",
       " 10.641202662832285,\n",
       " 10.203015682567631,\n",
       " 10.656134016073857,\n",
       " 10.32588778187906,\n",
       " 10.685917694749218,\n",
       " 10.353267428324509,\n",
       " 10.805372010572539,\n",
       " 10.458340587979281,\n",
       " 10.736798985837911,\n",
       " 10.061551422978914,\n",
       " 10.013432394096146,\n",
       " 10.378733665916648,\n",
       " 10.483941845626783,\n",
       " 10.453154586759997,\n",
       " 10.535566450376693,\n",
       " 11.099063804270015,\n",
       " 10.157699833538642,\n",
       " 10.385236003058706,\n",
       " 10.885798207729605,\n",
       " 10.215488143223467,\n",
       " 10.748966259266222,\n",
       " 10.200321617451792,\n",
       " 10.952771632314702,\n",
       " 10.322083407157491,\n",
       " 10.713316050973125,\n",
       " 10.171685536952712,\n",
       " 10.737952855299408,\n",
       " 10.652422736129708,\n",
       " 9.83790101575529,\n",
       " 10.69949993805408,\n",
       " 10.549899456198899,\n",
       " 10.378136624982952,\n",
       " 10.697945057792538,\n",
       " 11.060966369459862,\n",
       " 10.646548075788099,\n",
       " 10.054280171812566,\n",
       " 10.387735498091446,\n",
       " 10.817067814403016,\n",
       " 10.755613026934496,\n",
       " 10.925843511700528,\n",
       " 10.235141772561855,\n",
       " 10.65911598325214,\n",
       " 10.77558080768788,\n",
       " 11.120745319664703,\n",
       " 10.706206369525365,\n",
       " 10.569772142806169,\n",
       " 10.019747206212955,\n",
       " 10.611199647885178,\n",
       " 10.237504276853091,\n",
       " 10.407161665096641,\n",
       " 10.136818634292231,\n",
       " 10.33728093263115,\n",
       " 10.519465850362376,\n",
       " 10.673441132646179,\n",
       " 11.150965149459202,\n",
       " 10.59590246505326,\n",
       " 10.422757423084782,\n",
       " 9.903421050324905,\n",
       " 11.13562381713459,\n",
       " 10.861305758021635,\n",
       " 10.179181427845025,\n",
       " 10.748419974621594,\n",
       " 10.414336776023644,\n",
       " 10.481251939552509,\n",
       " 11.32547718898047,\n",
       " 11.307182147711147,\n",
       " 10.367253014814716,\n",
       " 10.835750250750984,\n",
       " 10.747434232557106,\n",
       " 10.627078580462817,\n",
       " 10.376702270713063,\n",
       " 10.614144537803869,\n",
       " 10.292062149020278,\n",
       " 9.934976529626072,\n",
       " 10.69987881067803,\n",
       " 10.45285327327336,\n",
       " 10.601311280979974,\n",
       " 10.822215312443701,\n",
       " 11.127938491246066,\n",
       " 10.84530001660062,\n",
       " 10.314546320252852,\n",
       " 10.492874048137502,\n",
       " 10.900385632644332,\n",
       " 10.262479659777204,\n",
       " 11.021271550559295,\n",
       " 11.534295490706421,\n",
       " 10.355360306329555,\n",
       " 11.104648908442082,\n",
       " 10.181157167204903,\n",
       " 9.923839048784025,\n",
       " 10.59747737797114,\n",
       " 10.084670127603255,\n",
       " 11.06032550939967,\n",
       " 11.381889926537355,\n",
       " 10.786373919461623,\n",
       " 10.994762152760009,\n",
       " 10.939762273967453,\n",
       " 10.686399108771596,\n",
       " 10.64057841009155,\n",
       " 11.40091264952661,\n",
       " 10.93930557574566,\n",
       " 10.275835628738692,\n",
       " 10.296375228647491,\n",
       " 10.436472436321477,\n",
       " 10.326912741821255,\n",
       " 10.916413041120615,\n",
       " 10.527263218504297,\n",
       " 10.300675835365867,\n",
       " 10.39176629498297,\n",
       " 10.609821652225184,\n",
       " 10.76482778427517,\n",
       " 10.610023699515052,\n",
       " 10.20522340634848,\n",
       " 11.143662480192264,\n",
       " 10.38254073577021,\n",
       " 11.250998984661267,\n",
       " 11.316813982704836,\n",
       " 10.64415361333594,\n",
       " 10.657379818244745,\n",
       " 10.637266949609621,\n",
       " 10.702103142933113,\n",
       " 10.000425951526418,\n",
       " 10.27912040435093,\n",
       " 10.637681662316622,\n",
       " 10.774934672349191,\n",
       " 11.001881484032712,\n",
       " 10.766556816500895,\n",
       " 9.750758195484268,\n",
       " 10.274911099167696,\n",
       " 10.419921718981863,\n",
       " 10.44447373919697,\n",
       " 10.378114229012237,\n",
       " 10.929151299215624,\n",
       " 10.82238588167153,\n",
       " 10.424689456030144,\n",
       " 10.8886686973152,\n",
       " 10.147325490273873,\n",
       " 9.929861677421227,\n",
       " 10.994044147724962,\n",
       " 10.680867419765708,\n",
       " 10.23176199314605,\n",
       " 10.298135701043554,\n",
       " 10.153517211409708,\n",
       " 10.293466703108844,\n",
       " 10.75122103231314,\n",
       " 10.625246485085315,\n",
       " 10.843475279586862,\n",
       " 10.394702130653004,\n",
       " 10.907752531025471,\n",
       " 10.473393076238034,\n",
       " 10.518105462931352,\n",
       " 11.158433850118683,\n",
       " 11.534295490706421,\n",
       " 10.670071051169256,\n",
       " 10.91213866328109,\n",
       " 10.456107497959097,\n",
       " 10.595358919592021,\n",
       " 10.991106299729372,\n",
       " 10.559815134957537,\n",
       " 10.990904068443504,\n",
       " 10.607302628220587,\n",
       " 11.113164059778741,\n",
       " 10.85454679350309,\n",
       " 11.039845107446496,\n",
       " 10.986139821625509,\n",
       " 11.095423200101555,\n",
       " 10.54120130120716,\n",
       " 10.92415631759022,\n",
       " 10.933089112414988,\n",
       " 11.32212808969523,\n",
       " 11.108319987273946,\n",
       " 10.805983573388094,\n",
       " 10.642300975279205,\n",
       " 11.418878486990428,\n",
       " 10.940135781074018,\n",
       " 10.832042767230265,\n",
       " 11.484381947152983,\n",
       " 11.115398764163585,\n",
       " 10.849084627602258,\n",
       " 10.602467688288517,\n",
       " 10.743868690309933,\n",
       " 10.971554719376076,\n",
       " 11.534295490706421,\n",
       " 10.049706862037105,\n",
       " 10.625100705406744,\n",
       " 10.248282204444145,\n",
       " 10.846809623461313,\n",
       " 10.920582435586892,\n",
       " 10.474580087088768,\n",
       " 10.598433115037453,\n",
       " 10.65913993844747,\n",
       " 10.920148368552894,\n",
       " 10.943004258145342,\n",
       " 11.123933919554952,\n",
       " 10.847218338835674,\n",
       " 11.070708194329034,\n",
       " 10.67812254994234,\n",
       " 10.724456104533958,\n",
       " 11.153203024986107,\n",
       " 10.41406314504691,\n",
       " 11.017251144971581,\n",
       " 11.172489382682542,\n",
       " 10.71523965313516,\n",
       " 10.784151106767132,\n",
       " 10.768295498386117,\n",
       " 10.775282884523719,\n",
       " 10.824128807147542,\n",
       " 11.212414790079576,\n",
       " 10.666510548007066,\n",
       " 10.960774247677064,\n",
       " 10.675076159402636,\n",
       " 10.76164056768034,\n",
       " 10.940614432350252,\n",
       " 10.809869352700158,\n",
       " 11.107960231903714,\n",
       " 10.609600315486096,\n",
       " 10.72121682491962,\n",
       " 11.002116507732017,\n",
       " 10.593855875645637,\n",
       " 10.821077440141902,\n",
       " 10.592124577618188,\n",
       " 10.352427134229572,\n",
       " 11.03830318616445,\n",
       " 11.003365706325472,\n",
       " 10.776474045001011,\n",
       " 10.06475570013225,\n",
       " 10.182973629388371,\n",
       " 10.99529339649126,\n",
       " 10.651146592342338,\n",
       " 11.024513436041138,\n",
       " 10.508813937706645,\n",
       " 10.991763269102854,\n",
       " 10.347628353506122,\n",
       " 11.267625769009307,\n",
       " 11.239238338159014,\n",
       " 10.729787929213312,\n",
       " 11.06958713543389,\n",
       " 10.735744288800273,\n",
       " 10.992116843150836,\n",
       " 11.022457869792117,\n",
       " 10.528195279873552,\n",
       " 10.762657516920525,\n",
       " 10.97021349900857,\n",
       " 10.739847237169155,\n",
       " 10.37224039988021,\n",
       " 11.528582255246265,\n",
       " 10.701692702991545,\n",
       " 10.996450580805538,\n",
       " 10.380373692872555,\n",
       " 11.058401406572878,\n",
       " 10.976850406950787,\n",
       " 10.520131587109958,\n",
       " 10.964882453387421,\n",
       " 11.304658210803,\n",
       " 10.823889820449997,\n",
       " 10.849958252911415,\n",
       " 10.508895818788067,\n",
       " 10.986393811382621,\n",
       " 11.153031058404522,\n",
       " 11.195498706334886,\n",
       " 10.520374446374209,\n",
       " 11.24490221862606,\n",
       " 10.863431467331687,\n",
       " 10.741665380134448,\n",
       " 10.901745293274272,\n",
       " 10.300550796963453,\n",
       " 10.794419449943392,\n",
       " 11.01577260812488,\n",
       " 10.7090254786751,\n",
       " 10.955182921416487,\n",
       " 10.6049996494277,\n",
       " 10.826038647381097,\n",
       " 11.534295490706421,\n",
       " 10.71230442610505,\n",
       " 11.386625008854054,\n",
       " 10.786200818144286,\n",
       " 10.882940859367924,\n",
       " 11.201496998788446,\n",
       " 10.790164080634103,\n",
       " 11.297799685249602,\n",
       " 10.557400019844792,\n",
       " 10.77496918527507,\n",
       " 10.611227735398973,\n",
       " 11.534295490706421,\n",
       " 11.187804557543554,\n",
       " 10.299642791318515,\n",
       " 10.898423092400252,\n",
       " 10.89536801535987,\n",
       " 11.077918254481077,\n",
       " 10.704255193154744,\n",
       " 10.98410557783196,\n",
       " 10.977158030900029,\n",
       " 10.327218159451137,\n",
       " 11.222412723285165,\n",
       " 10.952349215939682,\n",
       " 10.502983177014618,\n",
       " 10.786386947380556,\n",
       " 11.060054234464793,\n",
       " 10.70734839506515,\n",
       " 10.956701418570916,\n",
       " 10.834765414218532,\n",
       " 11.052856324868022,\n",
       " 11.126365522736661,\n",
       " 11.212212187308628,\n",
       " 10.97057477379638,\n",
       " 10.80305929780341,\n",
       " 11.150792797573676,\n",
       " 10.556463568406796,\n",
       " 10.653912584247546,\n",
       " 11.09469421533239,\n",
       " 11.079215191421762,\n",
       " 10.902132165417855,\n",
       " 11.136470464909157,\n",
       " 11.11762848577769,\n",
       " 10.813558984596366,\n",
       " 10.721150607793641,\n",
       " 10.799330649141178,\n",
       " 11.157663807585696,\n",
       " 11.48589336791891,\n",
       " 10.849550656077264,\n",
       " 11.392767110476376,\n",
       " 10.958217613387388,\n",
       " 11.095423200101555,\n",
       " 10.664900673766162,\n",
       " 11.308603667896607,\n",
       " 10.673480026792985,\n",
       " 10.603659998032827,\n",
       " 10.814524507461735,\n",
       " 10.867787191096594,\n",
       " 10.716837062123032,\n",
       " 10.720024245272976,\n",
       " 10.772896298510153,\n",
       " 11.31757945705352,\n",
       " 10.580606972018876,\n",
       " 10.772078525532862,\n",
       " 10.742702836729976,\n",
       " 11.11020658253009,\n",
       " 10.552787333315797,\n",
       " 11.252015143015875,\n",
       " 10.524816445305602,\n",
       " 10.765638838309634,\n",
       " 11.086640111968684,\n",
       " 10.704928442731342,\n",
       " 10.647375374799257,\n",
       " 11.315608029929757,\n",
       " 10.645877175924472,\n",
       " 10.510368532938665,\n",
       " 11.145131793583074,\n",
       " 11.12158513090746,\n",
       " 10.832279813633209,\n",
       " 11.08447828047014,\n",
       " 10.652211340984815,\n",
       " 10.756284550625612,\n",
       " 10.525621965849654,\n",
       " 10.511185771263591,\n",
       " 10.924210369209531,\n",
       " 10.789422164395384,\n",
       " 11.134632818911754,\n",
       " 10.423738616949274,\n",
       " 10.792016466624613,\n",
       " 10.805922738119841,\n",
       " 10.378043305129086,\n",
       " 10.652636923211357,\n",
       " 10.246048358997896,\n",
       " 11.078798502242707,\n",
       " 10.552160242994244,\n",
       " 10.476696251133417,\n",
       " 10.916015307290108,\n",
       " 11.202806899641612,\n",
       " 10.886370944359415,\n",
       " 11.314218395886835,\n",
       " 11.002916174580129,\n",
       " 11.30384506239558,\n",
       " 11.534295490706421,\n",
       " 10.675492123173568,\n",
       " 11.003115991415362,\n",
       " 10.879442445131593,\n",
       " 11.050524859350896,\n",
       " 10.688712421296982,\n",
       " 10.535955422284223,\n",
       " 10.70734839506515,\n",
       " 10.497449555174734,\n",
       " 11.005859431745387,\n",
       " 10.892191964919329,\n",
       " 10.472459435395576,\n",
       " 10.895868576183826,\n",
       " 10.654195843620604,\n",
       " 10.462989048226156,\n",
       " 10.992571254737735,\n",
       " 11.534295490706421,\n",
       " 10.947608455915049,\n",
       " 10.71237123157867,\n",
       " 10.855010283980864,\n",
       " 10.794973165491312,\n",
       " 10.627430633893226,\n",
       " 10.962960458076914,\n",
       " 10.809020627757324,\n",
       " 10.423203539647567,\n",
       " 10.41971854096067,\n",
       " 10.76259398788244,\n",
       " 10.678399034898712,\n",
       " 10.970832747329727,\n",
       " 11.534295490706421,\n",
       " 10.383441512635033,\n",
       " 11.334791129516544,\n",
       " 10.88451678555052,\n",
       " 10.814343542920238,\n",
       " 11.103678213566603,\n",
       " 10.336308390654148,\n",
       " 10.802326890796527,\n",
       " 11.180594640849565,\n",
       " 11.049237847661642,\n",
       " 10.406018873477299,\n",
       " 10.58205394821854,\n",
       " 11.072480637966038,\n",
       " 10.93683216540912,\n",
       " 10.515668682606062,\n",
       " 10.462131439757595,\n",
       " 10.981250666468277,\n",
       " 10.975054045382041,\n",
       " 10.745485679828429,\n",
       " 10.693761443826796,\n",
       " 10.86818742361797,\n",
       " 11.245921453504174,\n",
       " 10.843475279586862,\n",
       " 10.715106420466313,\n",
       " 10.971657815702502,\n",
       " 10.952138992050466,\n",
       " 10.49005124769329,\n",
       " 10.943905596959512,\n",
       " 10.749033879884525,\n",
       " 10.744709851161437,\n",
       " 10.27055827265698,\n",
       " 10.923669721500422,\n",
       " 10.804705254912761,\n",
       " 10.883391377471353,\n",
       " 10.594908243570373,\n",
       " 11.243371415833355,\n",
       " 11.031771905639792,\n",
       " 10.687548900946704,\n",
       " 10.678191678348384,\n",
       " 10.441850519295206,\n",
       " 10.876668884613583,\n",
       " 10.601273955244498,\n",
       " 10.69471380325571,\n",
       " 10.201070449665172,\n",
       " 10.798227730379839,\n",
       " 10.98943666725084,\n",
       " 10.63734472134386,\n",
       " 10.724060021351312,\n",
       " 10.823172517478298,\n",
       " 10.984665407522643,\n",
       " 10.585472668389881,\n",
       " 10.889173741515435,\n",
       " 10.74218424297173,\n",
       " 10.642945635959324,\n",
       " 11.156593319412274,\n",
       " 11.018579961618187,\n",
       " 10.749355820113736,\n",
       " 10.704187843260796,\n",
       " 11.21480240798111,\n",
       " 10.884179296093862,\n",
       " 10.805375054099539,\n",
       " 10.667698791527078,\n",
       " 10.778039202827545,\n",
       " 11.14712327991844,\n",
       " 10.67181177644663,\n",
       " 10.187951953831922,\n",
       " 10.96368813405067,\n",
       " 10.632653209172005,\n",
       " 11.398770838667849,\n",
       " 10.964207578602988,\n",
       " 11.115264822636302,\n",
       " 10.710900479224417,\n",
       " 10.588804153980885,\n",
       " 11.264861462612437,\n",
       " 10.54736570428927,\n",
       " 10.958948747548254,\n",
       " 10.91982269458584,\n",
       " 11.193064494154212,\n",
       " 10.874455845700979,\n",
       " 10.934213500143766,\n",
       " 10.323972627400678,\n",
       " 10.870585460661555,\n",
       " 10.699259008661018,\n",
       " 11.142875762083019,\n",
       " 10.890124905830831,\n",
       " 11.141789317185655,\n",
       " 10.867787191096594,\n",
       " 11.077964602632951,\n",
       " 10.487712325871886,\n",
       " 11.251002103290817,\n",
       " 10.146825811135857,\n",
       " 11.048187945396993,\n",
       " 10.276877027171807,\n",
       " 11.442878466658193,\n",
       " 11.360310272345556,\n",
       " 10.941730395161029,\n",
       " 10.71056591543671,\n",
       " 10.79121418728553,\n",
       " 10.739001974382996,\n",
       " 10.475850322817688,\n",
       " 10.82377030567982,\n",
       " 11.105212833071583,\n",
       " 11.04397727854871,\n",
       " 11.194921632632058,\n",
       " 10.788927247593167,\n",
       " 10.75775393342989,\n",
       " 10.635037804379019,\n",
       " 10.716837062123032,\n",
       " 11.206237247945674,\n",
       " 10.766778271248578,\n",
       " 10.997254789541039,\n",
       " 10.846692816951165,\n",
       " 11.344814458325388,\n",
       " 11.00106597361394,\n",
       " 10.14033675090645,\n",
       " 10.50133455324175,\n",
       " 10.514203759116914,\n",
       " 10.83139059973845,\n",
       " 11.17757859488649,\n",
       " 10.762975101585972,\n",
       " 10.567180175420875,\n",
       " 10.83683203897611,\n",
       " 10.704861138166944,\n",
       " 10.905166678408571,\n",
       " 11.255824325927588,\n",
       " 10.725643413659608,\n",
       " 10.746712845552901,\n",
       " 10.276773762280058,\n",
       " 11.287178527785903,\n",
       " 10.988322028210893,\n",
       " 10.877518751046855,\n",
       " 10.739327160012657,\n",
       " 10.603287553926174,\n",
       " 10.701219948286148,\n",
       " 10.962544405370902,\n",
       " 10.642157660894972,\n",
       " 11.150577315935468,\n",
       " 10.961086856224243,\n",
       " 10.249450325495184,\n",
       " 10.963947890054659,\n",
       " 10.93410647005037,\n",
       " 10.830797350892716,\n",
       " 10.618078170389724,\n",
       " 10.497366731437404,\n",
       " 11.201456036726139,\n",
       " 10.360342617026589,\n",
       " 11.142788889915359,\n",
       " 11.306761933690703,\n",
       " 10.269934593623564,\n",
       " 10.271700674941403,\n",
       " 10.769999631847137,\n",
       " 10.557244005491155,\n",
       " 10.722936932960728,\n",
       " 10.82263420239148,\n",
       " 10.840776275405888,\n",
       " 10.687617380807945,\n",
       " 11.178249613881933,\n",
       " 11.295863383971886,\n",
       " 11.11020658253009,\n",
       " 11.363694330975855,\n",
       " 10.340580518324604,\n",
       " 10.24252791726305,\n",
       " 11.294259374849453,\n",
       " 11.534295490706421,\n",
       " 10.755836918273502,\n",
       " 10.622911456174293,\n",
       " 10.61771105869799,\n",
       " 11.218353041813693,\n",
       " 10.767473952780994,\n",
       " 10.430403037451066,\n",
       " 10.876101905463226,\n",
       " 11.00561033885736,\n",
       " 10.312479766420449,\n",
       " 10.850947439822313,\n",
       " 11.129187601481807,\n",
       " 10.916832397224534,\n",
       " 10.432349538788218,\n",
       " 11.170927992306178,\n",
       " 10.294075881413862,\n",
       " 10.820897657678199,\n",
       " 11.114147945011881,\n",
       " 10.576636086589383,\n",
       " 11.534295490706421,\n",
       " 11.379588339188967,\n",
       " 10.84546552414626,\n",
       " 11.204768539329063,\n",
       " 10.98943666725084,\n",
       " 11.060337302292881,\n",
       " 10.434027564411219,\n",
       " 10.79521916290958,\n",
       " 10.923399287993865,\n",
       " 10.622180640063812,\n",
       " 10.854778565594904,\n",
       " 10.715106420466313,\n",
       " 10.459468169808975,\n",
       " 10.763927250870267,\n",
       " 10.703446694896137,\n",
       " 11.093873471753472,\n",
       " 10.980995366872817,\n",
       " 11.338405397268351,\n",
       " 11.167458900379435,\n",
       " 10.671324678727517,\n",
       " 10.774655387588322,\n",
       " 10.790040466146326,\n",
       " 10.469568113011716,\n",
       " 10.746325482201238,\n",
       " 10.586685402242406,\n",
       " 10.643232018472856,\n",
       " 10.993378588058855,\n",
       " 10.678053416757233,\n",
       " 10.51558735424275,\n",
       " 11.090446437502804,\n",
       " 11.01117520192391,\n",
       " 10.699665035915537,\n",
       " 10.4195394952737,\n",
       " 11.119630993288766,\n",
       " 10.652495082592695,\n",
       " 10.48083098735243,\n",
       " 10.92512880001811,\n",
       " 11.005909242878186,\n",
       " 10.58197784375244,\n",
       " 10.689601259598334,\n",
       " 10.882602837543518,\n",
       " 10.635037804379019,\n",
       " 10.345605978292328,\n",
       " 10.628738836996606,\n",
       " 11.408941778825277,\n",
       " 11.056745842317563,\n",
       " 11.325860676819078,\n",
       " 10.862856930775358,\n",
       " 10.968456876781646,\n",
       " 10.733261330627899,\n",
       " 10.132016576126675,\n",
       " 10.722804721951764,\n",
       " 10.620131509007471,\n",
       " 10.72899982085141,\n",
       " 10.878933592018965,\n",
       " 10.700476596184611,\n",
       " 10.76494187850445,\n",
       " 11.013995473450624,\n",
       " 10.983851006147441,\n",
       " 10.80018763464528,\n",
       " 10.173972600159388,\n",
       " 10.496123551499684,\n",
       " 11.27423671065389,\n",
       " 10.676600514733956,\n",
       " 11.174721730170868,\n",
       " 11.534295490706421,\n",
       " 10.915524732672047,\n",
       " 10.645734373182417,\n",
       " 10.41190026757783,\n",
       " 11.096743132020858,\n",
       " 10.600900621243124,\n",
       " 11.255863120452393,\n",
       " 11.235761219081137,\n",
       " 10.871383530135954,\n",
       " 10.899919448775261,\n",
       " 10.995041657392331,\n",
       " 11.04397727854871,\n",
       " 10.63568716285973,\n",
       " 11.145781627176344,\n",
       " 11.053236456651618,\n",
       " 10.607154208886223,\n",
       " 10.688096608575814,\n",
       " 10.535796025864991,\n",
       " 10.852458423798911,\n",
       " 11.20811079751146,\n",
       " 11.07317942288519,\n",
       " 10.428186495234625,\n",
       " 10.307484917369258,\n",
       " 10.977824224992123,\n",
       " 10.875648090574092,\n",
       " 10.973408828990653,\n",
       " 11.008048777806648,\n",
       " 11.534295490706421,\n",
       " 10.73633145595318,\n",
       " 10.771449014012997,\n",
       " 10.67271575750141,\n",
       " 10.955549666384403,\n",
       " 11.020152572311689,\n",
       " 10.947397232933202,\n",
       " 10.032320424379096,\n",
       " 10.229404275217824,\n",
       " 11.13939497539241,\n",
       " 9.975901233045173,\n",
       " 10.852400351227539,\n",
       " 10.994235666147436,\n",
       " 10.690762395820771,\n",
       " 10.55200340895048,\n",
       " 10.763609968496873,\n",
       " 10.86032504105607,\n",
       " 11.281863142786701,\n",
       " 10.921504202914962,\n",
       " 10.882264701421724,\n",
       " 10.912740254782156,\n",
       " 10.558413520275876,\n",
       " 10.331040257108297,\n",
       " 10.75877484084995,\n",
       " 10.724786054054675,\n",
       " 10.51542467767053,\n",
       " 10.460499954601437,\n",
       " 10.822514537453165,\n",
       " 10.881700887014485,\n",
       " 10.584182525156834,\n",
       " 10.755069082040832,\n",
       " 10.709695525380088,\n",
       " 10.52166870060616,\n",
       " 10.697768830015422,\n",
       " 11.031092139970914,\n",
       " 10.744192297453688,\n",
       " 10.712838744972538,\n",
       " 11.334432569489755,\n",
       " 10.438078529852381,\n",
       " 10.516562858330515,\n",
       " 11.524260974633973,\n",
       " 10.531242514329021,\n",
       " 10.642444269127367,\n",
       " 10.491968420867723,\n",
       " 10.765322098614224,\n",
       " 11.048378918724966,\n",
       " 10.884910379348065,\n",
       " 10.820897657678199,\n",
       " 10.55856935228928,\n",
       " 10.98563164849693,\n",
       " 10.621302955145095,\n",
       " 10.99403406679187,\n",
       " 10.521507010404234,\n",
       " 11.230880805735858,\n",
       " 10.740626846104846,\n",
       " 10.897146649985954,\n",
       " 10.624590309109404,\n",
       " 10.716837062123032,\n",
       " 11.177914160667523,\n",
       " 11.2499880362755,\n",
       " 10.546892866201233,\n",
       " 10.70721410679279,\n",
       " 10.840423693720814,\n",
       " 10.922479266642203,\n",
       " 10.942951212906582,\n",
       " 10.86658553151754,\n",
       " 10.96711149228176,\n",
       " 10.932714035385844,\n",
       " 10.637560722208704,\n",
       " 11.076619633310386,\n",
       " 11.05546681736012,\n",
       " 10.70277244665735,\n",
       " 10.558491439318031,\n",
       " 11.518012504018786,\n",
       " 10.465471961643733,\n",
       " 10.447002994124777,\n",
       " 10.477456975266742,\n",
       " 10.748518559837908,\n",
       " 10.76195847542619,\n",
       " 10.51542467767053,\n",
       " 10.820897657678199,\n",
       " 10.527472204361002,\n",
       " 10.90555222943001,\n",
       " 11.055419414634455,\n",
       " 10.39772637269772,\n",
       " 10.918247106810263,\n",
       " 10.458607535181294,\n",
       " 11.060667446852031,\n",
       " 11.371327337839173,\n",
       " 10.092826099237977,\n",
       " 10.454379685515201,\n",
       " 10.526587734784039,\n",
       " 10.142701284027833,\n",
       " 10.541439097628123,\n",
       " 10.889173741515435,\n",
       " 10.964519115868827,\n",
       " 10.466326711254153,\n",
       " 10.432084329787237,\n",
       " 10.543893021838013,\n",
       " 11.00216650564878,\n",
       " 10.841833275191114,\n",
       " 10.9548684614988,\n",
       " 11.095468744009686,\n",
       " ...]"
      ]
     },
     "execution_count": 28,
     "metadata": {},
     "output_type": "execute_result"
    }
   ],
   "source": [
    "y.tolist()"
   ]
  },
  {
   "cell_type": "code",
   "execution_count": 29,
   "id": "a34f5265",
   "metadata": {},
   "outputs": [
    {
     "data": {
      "text/plain": [
       "False"
      ]
     },
     "execution_count": 29,
     "metadata": {},
     "output_type": "execute_result"
    }
   ],
   "source": [
    "np.any(y < 0)"
   ]
  },
  {
   "cell_type": "code",
   "execution_count": 54,
   "id": "07c1d606",
   "metadata": {},
   "outputs": [],
   "source": [
    "from sklearn.model_selection import train_test_split\n",
    "x_train,x_test,y_train,y_test=train_test_split(x,y,test_size=0.25,random_state=0)"
   ]
  },
  {
   "cell_type": "markdown",
   "id": "7fdb69a2",
   "metadata": {},
   "source": [
    "## Model Building"
   ]
  },
  {
   "cell_type": "markdown",
   "id": "32ccee78",
   "metadata": {},
   "source": [
    "#### In this data Y that is target variable(sales) is continous variable Hence to solve this data and to predict further results we will use regression algorithms. \n",
    "Used regression Algorithms:\n",
    "1. Linear Regression\n",
    "2. Random Forest regression\n",
    "3. XG Boost\n",
    "4. SVR"
   ]
  },
  {
   "cell_type": "markdown",
   "id": "cc086e7d",
   "metadata": {},
   "source": [
    "### 1.Linear Regression"
   ]
  },
  {
   "cell_type": "code",
   "execution_count": 55,
   "id": "56ab987b",
   "metadata": {},
   "outputs": [
    {
     "data": {
      "text/plain": [
       "0.3363777232118168"
      ]
     },
     "execution_count": 55,
     "metadata": {},
     "output_type": "execute_result"
    }
   ],
   "source": [
    "from sklearn.linear_model import LinearRegression\n",
    "\n",
    "model_lr=LinearRegression()\n",
    "model_lr.fit(x_train,y_train)\n",
    "y_pred=model_lr.predict(x_test)\n",
    "\n",
    "model_lr.score(x_test,y_test)"
   ]
  },
  {
   "cell_type": "code",
   "execution_count": 32,
   "id": "cf94705d",
   "metadata": {},
   "outputs": [
    {
     "data": {
      "text/plain": [
       "False"
      ]
     },
     "execution_count": 32,
     "metadata": {},
     "output_type": "execute_result"
    }
   ],
   "source": [
    "np.any(y_pred < 0)"
   ]
  },
  {
   "cell_type": "code",
   "execution_count": 56,
   "id": "3e6b55bc",
   "metadata": {},
   "outputs": [
    {
     "data": {
      "text/plain": [
       "0.00017904788177835484"
      ]
     },
     "execution_count": 56,
     "metadata": {},
     "output_type": "execute_result"
    }
   ],
   "source": [
    "from sklearn import metrics\n",
    "\n",
    "MSLE_lr=metrics.mean_squared_log_error(y_test, y_pred)\n",
    "\n",
    "MSE_lr=metrics.mean_squared_error(y_test,y_pred)\n",
    "RMSE_lr=np.sqrt(MSE_lr)\n",
    "r2_lr=metrics.r2_score(y_test,y_pred)\n",
    "\n",
    "MSLE_lr"
   ]
  },
  {
   "cell_type": "markdown",
   "id": "4621a1f1",
   "metadata": {},
   "source": [
    "### 2.Random Forest regression"
   ]
  },
  {
   "cell_type": "code",
   "execution_count": 57,
   "id": "a791bf03",
   "metadata": {},
   "outputs": [
    {
     "data": {
      "text/plain": [
       "0.44233602639295344"
      ]
     },
     "execution_count": 57,
     "metadata": {},
     "output_type": "execute_result"
    }
   ],
   "source": [
    "from sklearn.ensemble import RandomForestRegressor\n",
    "\n",
    "model_rf=RandomForestRegressor(n_estimators = 100, random_state = 0)\n",
    "model_rf.fit(x_train,y_train)\n",
    "y_pred=model_rf.predict(x_test)\n",
    "\n",
    "model_rf.score(x_test,y_test)"
   ]
  },
  {
   "cell_type": "code",
   "execution_count": 58,
   "id": "d45aea9e",
   "metadata": {},
   "outputs": [
    {
     "data": {
      "text/plain": [
       "0.00016136449197554816"
      ]
     },
     "execution_count": 58,
     "metadata": {},
     "output_type": "execute_result"
    }
   ],
   "source": [
    "from sklearn import metrics\n",
    "\n",
    "MSLE_rf=metrics.mean_squared_log_error(y_test, y_pred)\n",
    "\n",
    "\n",
    "MSE_rf=metrics.mean_squared_error(y_test,y_pred)\n",
    "RMSE_rf=np.sqrt(MSE_lr)\n",
    "r2_rf=metrics.r2_score(y_test,y_pred)\n",
    "\n",
    "MSLE_rf"
   ]
  },
  {
   "cell_type": "markdown",
   "id": "5a1fe766",
   "metadata": {},
   "source": [
    "### 4.SVR"
   ]
  },
  {
   "cell_type": "code",
   "execution_count": 36,
   "id": "86a63750",
   "metadata": {},
   "outputs": [
    {
     "data": {
      "text/plain": [
       "0.8522620501890572"
      ]
     },
     "execution_count": 36,
     "metadata": {},
     "output_type": "execute_result"
    }
   ],
   "source": [
    "from sklearn.svm import SVR\n",
    "\n",
    "model_svr = SVR(kernel='rbf')\n",
    "model_svr.fit(x_train,y_train)\n",
    "y_pred = model_svr.predict(x_test)\n",
    "\n",
    "model_svr.score(x_test,y_test)"
   ]
  },
  {
   "cell_type": "code",
   "execution_count": 37,
   "id": "d8495cea",
   "metadata": {},
   "outputs": [],
   "source": [
    "MSLE_svr=metrics.mean_squared_log_error(y_test, y_pred)\n",
    "\n",
    "\n",
    "MSE_svr=metrics.mean_squared_error(y_test,y_pred)\n",
    "RMSE_svr=np.sqrt(MSE_svr)\n",
    "r2_svr=metrics.r2_score(y_test,y_pred)"
   ]
  },
  {
   "cell_type": "code",
   "execution_count": null,
   "id": "59bc65b9",
   "metadata": {},
   "outputs": [],
   "source": []
  },
  {
   "cell_type": "markdown",
   "id": "5b525a4a",
   "metadata": {},
   "source": [
    "## Comparing Models"
   ]
  },
  {
   "cell_type": "code",
   "execution_count": 59,
   "id": "c135b63e",
   "metadata": {},
   "outputs": [
    {
     "data": {
      "text/html": [
       "<div>\n",
       "<style scoped>\n",
       "    .dataframe tbody tr th:only-of-type {\n",
       "        vertical-align: middle;\n",
       "    }\n",
       "\n",
       "    .dataframe tbody tr th {\n",
       "        vertical-align: top;\n",
       "    }\n",
       "\n",
       "    .dataframe thead th {\n",
       "        text-align: right;\n",
       "    }\n",
       "</style>\n",
       "<table border=\"1\" class=\"dataframe\">\n",
       "  <thead>\n",
       "    <tr style=\"text-align: right;\">\n",
       "      <th></th>\n",
       "      <th>r2_acore</th>\n",
       "      <th>MSLE</th>\n",
       "    </tr>\n",
       "  </thead>\n",
       "  <tbody>\n",
       "    <tr>\n",
       "      <th>Linear regression</th>\n",
       "      <td>0.336378</td>\n",
       "      <td>0.000179</td>\n",
       "    </tr>\n",
       "    <tr>\n",
       "      <th>Random Forest Regression</th>\n",
       "      <td>0.442336</td>\n",
       "      <td>0.000161</td>\n",
       "    </tr>\n",
       "    <tr>\n",
       "      <th>Support Vector Regression</th>\n",
       "      <td>0.852262</td>\n",
       "      <td>0.000528</td>\n",
       "    </tr>\n",
       "  </tbody>\n",
       "</table>\n",
       "</div>"
      ],
      "text/plain": [
       "                           r2_acore      MSLE\n",
       "Linear regression          0.336378  0.000179\n",
       "Random Forest Regression   0.442336  0.000161\n",
       "Support Vector Regression  0.852262  0.000528"
      ]
     },
     "execution_count": 59,
     "metadata": {},
     "output_type": "execute_result"
    }
   ],
   "source": [
    "ind=['Linear regression','Random Forest Regression','Support Vector Regression']\n",
    "data={\"r2_acore\":[r2_lr,r2_rf,r2_svr],\"MSLE\":[MSLE_lr,MSLE_rf,MSLE_svr]}\n",
    "result=pd.DataFrame(data=data,index=ind)\n",
    "result"
   ]
  },
  {
   "cell_type": "markdown",
   "id": "0bfd85b1",
   "metadata": {},
   "source": [
    "## Conclusion"
   ]
  },
  {
   "cell_type": "markdown",
   "id": "6b098772",
   "metadata": {},
   "source": [
    "#### from above dataframe we can clearly see that svr had higheist r square and msle so we select svr model"
   ]
  },
  {
   "cell_type": "code",
   "execution_count": null,
   "id": "f50e548f",
   "metadata": {},
   "outputs": [],
   "source": []
  },
  {
   "cell_type": "code",
   "execution_count": null,
   "id": "8ade553a",
   "metadata": {},
   "outputs": [],
   "source": []
  },
  {
   "cell_type": "markdown",
   "id": "adfff1df",
   "metadata": {},
   "source": [
    "## Finding Results for test data set"
   ]
  },
  {
   "cell_type": "code",
   "execution_count": 60,
   "id": "4e05c205",
   "metadata": {},
   "outputs": [],
   "source": [
    "test=pd.read_csv(r\"C:\\Users\\HP\\Desktop\\KOMAL\\DATA\\from analytics vidya\\Jobthon\\TEST.csv\")"
   ]
  },
  {
   "cell_type": "code",
   "execution_count": 61,
   "id": "d3682896",
   "metadata": {},
   "outputs": [
    {
     "data": {
      "text/html": [
       "<div>\n",
       "<style scoped>\n",
       "    .dataframe tbody tr th:only-of-type {\n",
       "        vertical-align: middle;\n",
       "    }\n",
       "\n",
       "    .dataframe tbody tr th {\n",
       "        vertical-align: top;\n",
       "    }\n",
       "\n",
       "    .dataframe thead th {\n",
       "        text-align: right;\n",
       "    }\n",
       "</style>\n",
       "<table border=\"1\" class=\"dataframe\">\n",
       "  <thead>\n",
       "    <tr style=\"text-align: right;\">\n",
       "      <th></th>\n",
       "      <th>ID</th>\n",
       "      <th>Store_id</th>\n",
       "      <th>Store_Type</th>\n",
       "      <th>Location_Type</th>\n",
       "      <th>Region_Code</th>\n",
       "      <th>Date</th>\n",
       "      <th>Holiday</th>\n",
       "      <th>Discount</th>\n",
       "    </tr>\n",
       "  </thead>\n",
       "  <tbody>\n",
       "    <tr>\n",
       "      <th>0</th>\n",
       "      <td>T1188341</td>\n",
       "      <td>171</td>\n",
       "      <td>S4</td>\n",
       "      <td>L2</td>\n",
       "      <td>R3</td>\n",
       "      <td>2019-06-01</td>\n",
       "      <td>0</td>\n",
       "      <td>No</td>\n",
       "    </tr>\n",
       "    <tr>\n",
       "      <th>1</th>\n",
       "      <td>T1188342</td>\n",
       "      <td>172</td>\n",
       "      <td>S1</td>\n",
       "      <td>L1</td>\n",
       "      <td>R1</td>\n",
       "      <td>2019-06-01</td>\n",
       "      <td>0</td>\n",
       "      <td>No</td>\n",
       "    </tr>\n",
       "    <tr>\n",
       "      <th>2</th>\n",
       "      <td>T1188343</td>\n",
       "      <td>173</td>\n",
       "      <td>S4</td>\n",
       "      <td>L2</td>\n",
       "      <td>R1</td>\n",
       "      <td>2019-06-01</td>\n",
       "      <td>0</td>\n",
       "      <td>No</td>\n",
       "    </tr>\n",
       "    <tr>\n",
       "      <th>3</th>\n",
       "      <td>T1188344</td>\n",
       "      <td>174</td>\n",
       "      <td>S1</td>\n",
       "      <td>L1</td>\n",
       "      <td>R4</td>\n",
       "      <td>2019-06-01</td>\n",
       "      <td>0</td>\n",
       "      <td>No</td>\n",
       "    </tr>\n",
       "    <tr>\n",
       "      <th>4</th>\n",
       "      <td>T1188345</td>\n",
       "      <td>170</td>\n",
       "      <td>S1</td>\n",
       "      <td>L1</td>\n",
       "      <td>R2</td>\n",
       "      <td>2019-06-01</td>\n",
       "      <td>0</td>\n",
       "      <td>No</td>\n",
       "    </tr>\n",
       "  </tbody>\n",
       "</table>\n",
       "</div>"
      ],
      "text/plain": [
       "         ID  Store_id Store_Type Location_Type Region_Code        Date  \\\n",
       "0  T1188341       171         S4            L2          R3  2019-06-01   \n",
       "1  T1188342       172         S1            L1          R1  2019-06-01   \n",
       "2  T1188343       173         S4            L2          R1  2019-06-01   \n",
       "3  T1188344       174         S1            L1          R4  2019-06-01   \n",
       "4  T1188345       170         S1            L1          R2  2019-06-01   \n",
       "\n",
       "   Holiday Discount  \n",
       "0        0       No  \n",
       "1        0       No  \n",
       "2        0       No  \n",
       "3        0       No  \n",
       "4        0       No  "
      ]
     },
     "execution_count": 61,
     "metadata": {},
     "output_type": "execute_result"
    }
   ],
   "source": [
    "test.head()"
   ]
  },
  {
   "cell_type": "code",
   "execution_count": 62,
   "id": "5d5d85ef",
   "metadata": {},
   "outputs": [
    {
     "name": "stdout",
     "output_type": "stream",
     "text": [
      "<class 'pandas.core.frame.DataFrame'>\n",
      "RangeIndex: 22265 entries, 0 to 22264\n",
      "Data columns (total 8 columns):\n",
      " #   Column         Non-Null Count  Dtype \n",
      "---  ------         --------------  ----- \n",
      " 0   ID             22265 non-null  object\n",
      " 1   Store_id       22265 non-null  int64 \n",
      " 2   Store_Type     22265 non-null  object\n",
      " 3   Location_Type  22265 non-null  object\n",
      " 4   Region_Code    22265 non-null  object\n",
      " 5   Date           22265 non-null  object\n",
      " 6   Holiday        22265 non-null  int64 \n",
      " 7   Discount       22265 non-null  object\n",
      "dtypes: int64(2), object(6)\n",
      "memory usage: 1.4+ MB\n"
     ]
    }
   ],
   "source": [
    "test.info()"
   ]
  },
  {
   "cell_type": "code",
   "execution_count": 63,
   "id": "1223c419",
   "metadata": {},
   "outputs": [],
   "source": [
    "numerical_variables = ['#Order', 'Sales','Holiday']\n",
    "for i in numerical_variables:\n",
    "    train[i]=np.log(train[i]+1)\n"
   ]
  },
  {
   "cell_type": "code",
   "execution_count": 64,
   "id": "93b82b96",
   "metadata": {},
   "outputs": [],
   "source": [
    "numerical_variables = ['#Order', 'Sales','Holiday']\n",
    "for i in numerical_variables:\n",
    "    train[i]=np.where(train[i]>train[i].quantile(0.99),train[i].quantile(0.99),train[i])"
   ]
  },
  {
   "cell_type": "code",
   "execution_count": 65,
   "id": "689d3706",
   "metadata": {},
   "outputs": [],
   "source": [
    "# Import label encoder \n",
    "from sklearn import preprocessing \n",
    "  \n",
    "# label_encoder object knows how to understand word labels. \n",
    "label_encoder = preprocessing.LabelEncoder() \n",
    "  \n",
    "# Encode labels in column 'species'.\n",
    "test['Store_Type']= label_encoder.fit_transform(test['Store_Type']) \n",
    "test['Location_Type']= label_encoder.fit_transform(test['Location_Type']) \n",
    "test['Region_Code']= label_encoder.fit_transform(test['Region_Code']) \n",
    "test['Discount']= label_encoder.fit_transform(test['Discount']) \n"
   ]
  },
  {
   "cell_type": "code",
   "execution_count": 66,
   "id": "d10cf385",
   "metadata": {},
   "outputs": [
    {
     "name": "stdout",
     "output_type": "stream",
     "text": [
      "<class 'pandas.core.frame.DataFrame'>\n",
      "RangeIndex: 22265 entries, 0 to 22264\n",
      "Data columns (total 8 columns):\n",
      " #   Column         Non-Null Count  Dtype \n",
      "---  ------         --------------  ----- \n",
      " 0   ID             22265 non-null  object\n",
      " 1   Store_id       22265 non-null  int64 \n",
      " 2   Store_Type     22265 non-null  int32 \n",
      " 3   Location_Type  22265 non-null  int32 \n",
      " 4   Region_Code    22265 non-null  int32 \n",
      " 5   Date           22265 non-null  object\n",
      " 6   Holiday        22265 non-null  int64 \n",
      " 7   Discount       22265 non-null  int32 \n",
      "dtypes: int32(4), int64(2), object(2)\n",
      "memory usage: 1.0+ MB\n"
     ]
    }
   ],
   "source": [
    "test.info()"
   ]
  },
  {
   "cell_type": "code",
   "execution_count": 67,
   "id": "b6732811",
   "metadata": {},
   "outputs": [],
   "source": [
    "X=test.drop(['ID','Date'],axis=1)"
   ]
  },
  {
   "cell_type": "code",
   "execution_count": null,
   "id": "58b4bcb1",
   "metadata": {},
   "outputs": [],
   "source": []
  },
  {
   "cell_type": "code",
   "execution_count": 68,
   "id": "b6c39926",
   "metadata": {},
   "outputs": [],
   "source": [
    "test_pred=model_svr.predict(X)"
   ]
  },
  {
   "cell_type": "code",
   "execution_count": 69,
   "id": "22cfff99",
   "metadata": {},
   "outputs": [
    {
     "data": {
      "text/html": [
       "<div>\n",
       "<style scoped>\n",
       "    .dataframe tbody tr th:only-of-type {\n",
       "        vertical-align: middle;\n",
       "    }\n",
       "\n",
       "    .dataframe tbody tr th {\n",
       "        vertical-align: top;\n",
       "    }\n",
       "\n",
       "    .dataframe thead th {\n",
       "        text-align: right;\n",
       "    }\n",
       "</style>\n",
       "<table border=\"1\" class=\"dataframe\">\n",
       "  <thead>\n",
       "    <tr style=\"text-align: right;\">\n",
       "      <th></th>\n",
       "      <th>ID</th>\n",
       "      <th>Predicted class</th>\n",
       "    </tr>\n",
       "  </thead>\n",
       "  <tbody>\n",
       "    <tr>\n",
       "      <th>0</th>\n",
       "      <td>T1188341</td>\n",
       "      <td>2.464225</td>\n",
       "    </tr>\n",
       "    <tr>\n",
       "      <th>1</th>\n",
       "      <td>T1188342</td>\n",
       "      <td>2.439972</td>\n",
       "    </tr>\n",
       "    <tr>\n",
       "      <th>2</th>\n",
       "      <td>T1188343</td>\n",
       "      <td>2.497963</td>\n",
       "    </tr>\n",
       "    <tr>\n",
       "      <th>3</th>\n",
       "      <td>T1188344</td>\n",
       "      <td>2.433013</td>\n",
       "    </tr>\n",
       "    <tr>\n",
       "      <th>4</th>\n",
       "      <td>T1188345</td>\n",
       "      <td>2.439896</td>\n",
       "    </tr>\n",
       "    <tr>\n",
       "      <th>...</th>\n",
       "      <td>...</td>\n",
       "      <td>...</td>\n",
       "    </tr>\n",
       "    <tr>\n",
       "      <th>22260</th>\n",
       "      <td>T1210601</td>\n",
       "      <td>2.385566</td>\n",
       "    </tr>\n",
       "    <tr>\n",
       "      <th>22261</th>\n",
       "      <td>T1210602</td>\n",
       "      <td>2.478947</td>\n",
       "    </tr>\n",
       "    <tr>\n",
       "      <th>22262</th>\n",
       "      <td>T1210603</td>\n",
       "      <td>2.466476</td>\n",
       "    </tr>\n",
       "    <tr>\n",
       "      <th>22263</th>\n",
       "      <td>T1210604</td>\n",
       "      <td>2.429767</td>\n",
       "    </tr>\n",
       "    <tr>\n",
       "      <th>22264</th>\n",
       "      <td>T1210605</td>\n",
       "      <td>2.407797</td>\n",
       "    </tr>\n",
       "  </tbody>\n",
       "</table>\n",
       "<p>22265 rows × 2 columns</p>\n",
       "</div>"
      ],
      "text/plain": [
       "             ID  Predicted class\n",
       "0      T1188341         2.464225\n",
       "1      T1188342         2.439972\n",
       "2      T1188343         2.497963\n",
       "3      T1188344         2.433013\n",
       "4      T1188345         2.439896\n",
       "...         ...              ...\n",
       "22260  T1210601         2.385566\n",
       "22261  T1210602         2.478947\n",
       "22262  T1210603         2.466476\n",
       "22263  T1210604         2.429767\n",
       "22264  T1210605         2.407797\n",
       "\n",
       "[22265 rows x 2 columns]"
      ]
     },
     "execution_count": 69,
     "metadata": {},
     "output_type": "execute_result"
    }
   ],
   "source": [
    "df= pd.DataFrame({'ID': test.ID , 'Predicted class': test_pred})\n",
    "df"
   ]
  },
  {
   "cell_type": "code",
   "execution_count": 71,
   "id": "6ffe220c",
   "metadata": {},
   "outputs": [],
   "source": [
    "df.to_csv(r\"C:\\Users\\HP\\Desktop\\KOMAL\\output\\submission_file.csv\")"
   ]
  },
  {
   "cell_type": "code",
   "execution_count": null,
   "id": "4a2b6f4d",
   "metadata": {},
   "outputs": [],
   "source": []
  },
  {
   "cell_type": "code",
   "execution_count": null,
   "id": "525d3753",
   "metadata": {},
   "outputs": [],
   "source": []
  },
  {
   "cell_type": "code",
   "execution_count": null,
   "id": "34cdd084",
   "metadata": {},
   "outputs": [],
   "source": []
  }
 ],
 "metadata": {
  "kernelspec": {
   "display_name": "Python 3",
   "language": "python",
   "name": "python3"
  },
  "language_info": {
   "codemirror_mode": {
    "name": "ipython",
    "version": 3
   },
   "file_extension": ".py",
   "mimetype": "text/x-python",
   "name": "python",
   "nbconvert_exporter": "python",
   "pygments_lexer": "ipython3",
   "version": "3.8.8"
  }
 },
 "nbformat": 4,
 "nbformat_minor": 5
}
